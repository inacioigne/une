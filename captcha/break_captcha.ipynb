{
 "cells": [
  {
   "cell_type": "code",
   "execution_count": 9,
   "metadata": {},
   "outputs": [],
   "source": [
    "import pickle\n",
    "from keras.models import load_model\n",
    "import numpy as np\n",
    "import cv2\n",
    "from getCaptcha import GetCaptcha"
   ]
  },
  {
   "cell_type": "code",
   "execution_count": 2,
   "metadata": {},
   "outputs": [],
   "source": [
    "with open('label.dat', 'rb') as label:\n",
    "    lb = pickle.load(label)\n",
    "    label.close()"
   ]
  },
  {
   "cell_type": "code",
   "execution_count": 6,
   "metadata": {},
   "outputs": [],
   "source": [
    "model = load_model(\"modelo_treinado.hdf5\")"
   ]
  },
  {
   "cell_type": "code",
   "execution_count": 34,
   "metadata": {},
   "outputs": [],
   "source": [
    "url = 'http://pergamum.museu-goeldi.br:8080/pergamumweb/kaptcha.jpg'\n",
    "r = GetCaptcha(url)\n",
    "if r.status_code == 200:\n",
    "    with open(f'test/original.png', 'wb') as img:\n",
    "        img.write(r.content)\n",
    "        img.close\n",
    "else:\n",
    "    print('ERROU')"
   ]
  },
  {
   "cell_type": "code",
   "execution_count": 35,
   "metadata": {},
   "outputs": [],
   "source": [
    "def Tratar_Imagem(path):\n",
    "    img = cv2.imread(path, 0)\n",
    "    _, img = cv2.threshold(\n",
    "        img, 127, 255, cv2.THRESH_BINARY or cv2.THRESH_OTSU)\n",
    "    img = img[0:50, 40:160]\n",
    "    letra1 = img[0:50, 0:24]\n",
    "    letra1 = np.expand_dims(letra1, axis=2)\n",
    "    #cv2.imwrite(f'test/letra1.png', letra1) \n",
    "    letra2 = img[0:50, 24:48]\n",
    "    letra2 = np.expand_dims(letra2, axis=2)\n",
    "    #cv2.imwrite(f'test/letra2.png', letra2) \n",
    "    letra3 = img[0:50, 48:72]\n",
    "    letra3 = np.expand_dims(letra3, axis=2)\n",
    "    #cv2.imwrite(f'test/letra3.png', letra3) \n",
    "    letra4 = img[0:50, 72:96]\n",
    "    letra4 = np.expand_dims(letra4, axis=2)\n",
    "    #cv2.imwrite(f'test/letra4.png', letra4) \n",
    "    letra5 = img[0:50, 96:120]\n",
    "    letra5 = np.expand_dims(letra5, axis=2)\n",
    "    #cv2.imwrite(f'test/letra5.png', letra5)\n",
    "    dados = [letra1, letra2, letra3, letra4, letra5]\n",
    "    dados = np.array(dados, dtype='float') / 255\n",
    "\n",
    "    return dados\n",
    "    "
   ]
  },
  {
   "cell_type": "code",
   "execution_count": 36,
   "metadata": {},
   "outputs": [
    {
     "name": "stdout",
     "output_type": "stream",
     "text": [
      "1/1 [==============================] - 0s 38ms/step\n"
     ]
    },
    {
     "data": {
      "text/plain": [
       "array(['Y', '4', 'A', 'G', '2'], dtype='<U1')"
      ]
     },
     "execution_count": 36,
     "metadata": {},
     "output_type": "execute_result"
    }
   ],
   "source": [
    "path = 'test/original.png'\n",
    "dados = Tratar_Imagem(path)\n",
    "pred = model.predict(dados)\n",
    "lb.inverse_transform(pred)"
   ]
  },
  {
   "cell_type": "code",
   "execution_count": 37,
   "metadata": {},
   "outputs": [],
   "source": [
    "r = lb.inverse_transform(pred)"
   ]
  },
  {
   "cell_type": "code",
   "execution_count": 41,
   "metadata": {},
   "outputs": [
    {
     "data": {
      "text/plain": [
       "'Y4AG2'"
      ]
     },
     "execution_count": 41,
     "metadata": {},
     "output_type": "execute_result"
    }
   ],
   "source": [
    "\"\".join(list(r))"
   ]
  },
  {
   "cell_type": "code",
   "execution_count": null,
   "metadata": {},
   "outputs": [],
   "source": [
    "r'captcha/'"
   ]
  }
 ],
 "metadata": {
  "kernelspec": {
   "display_name": "Python 3.10.1 ('venv': venv)",
   "language": "python",
   "name": "python3"
  },
  "language_info": {
   "codemirror_mode": {
    "name": "ipython",
    "version": 3
   },
   "file_extension": ".py",
   "mimetype": "text/x-python",
   "name": "python",
   "nbconvert_exporter": "python",
   "pygments_lexer": "ipython3",
   "version": "3.10.1"
  },
  "orig_nbformat": 4,
  "vscode": {
   "interpreter": {
    "hash": "390798e0eaedcd79897607a771b23f78edc01d17e862f234591386371553dae0"
   }
  }
 },
 "nbformat": 4,
 "nbformat_minor": 2
}
