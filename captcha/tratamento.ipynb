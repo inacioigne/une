{
 "cells": [
  {
   "cell_type": "code",
   "execution_count": 1,
   "metadata": {},
   "outputs": [],
   "source": [
    "import cv2"
   ]
  },
  {
   "cell_type": "code",
   "execution_count": 2,
   "metadata": {},
   "outputs": [],
   "source": [
    "from getCaptcha import GetCaptcha"
   ]
  },
  {
   "cell_type": "code",
   "execution_count": 5,
   "metadata": {},
   "outputs": [],
   "source": [
    "with open('imagens/img.png', 'wb') as img:\n",
    "    img.write(r.content)\n",
    "    img.close"
   ]
  },
  {
   "cell_type": "code",
   "execution_count": 6,
   "metadata": {},
   "outputs": [],
   "source": [
    "metodos = [\n",
    "    cv2.THRESH_BINARY,\n",
    "    cv2.THRESH_BINARY_INV,\n",
    "    cv2.THRESH_TRUNC,\n",
    "    cv2.THRESH_TOZERO,\n",
    "    cv2.THRESH_TOZERO_INV\n",
    "]"
   ]
  },
  {
   "cell_type": "code",
   "execution_count": 12,
   "metadata": {},
   "outputs": [
    {
     "data": {
      "text/plain": [
       "(50, 200)"
      ]
     },
     "execution_count": 12,
     "metadata": {},
     "output_type": "execute_result"
    }
   ],
   "source": [
    "img = cv2.imread('imagens/test_1.png', 0)\n",
    "img.shape"
   ]
  },
  {
   "cell_type": "code",
   "execution_count": 25,
   "metadata": {},
   "outputs": [
    {
     "data": {
      "text/plain": [
       "True"
      ]
     },
     "execution_count": 25,
     "metadata": {},
     "output_type": "execute_result"
    }
   ],
   "source": [
    "img = cv2.imread('imagens\\original/1.png', 0)\n",
    "cv2.imwrite(\"test.png\", img)"
   ]
  },
  {
   "cell_type": "code",
   "execution_count": null,
   "metadata": {},
   "outputs": [],
   "source": [
    "imgGray = cv2.cvtColor(img, cv2.COLOR_RGB2GRAY)\n",
    "imgGray"
   ]
  },
  {
   "cell_type": "code",
   "execution_count": 9,
   "metadata": {},
   "outputs": [],
   "source": [
    "count = 0\n",
    "for metodo in metodos:\n",
    "    count += 1\n",
    "    _, imgTratada = cv2.threshold(imgGray, 127, 255, metodo or cv2.THRESH_OTSU)\n",
    "    cv2.imwrite(f'imagens/test_{count}.png', imgTratada)"
   ]
  },
  {
   "cell_type": "code",
   "execution_count": null,
   "metadata": {},
   "outputs": [],
   "source": [
    "url = 'http://pergamum.museu-goeldi.br:8080/pergamumweb/kaptcha.jpg'\n",
    "for i in range(100,201):\n",
    "    print(i)\n",
    "    r = GetCaptcha(url)\n",
    "    if r.status_code == 200:\n",
    "        with open(f'imagens/original/{i}.png', 'wb') as img:\n",
    "            img.write(r.content)\n",
    "            img.close\n",
    "    else:\n",
    "        print('ERROU', i)\n",
    "    \n",
    "    "
   ]
  },
  {
   "cell_type": "markdown",
   "metadata": {},
   "source": [
    "TRATAMENTO DE IMAGENS"
   ]
  },
  {
   "cell_type": "code",
   "execution_count": 5,
   "metadata": {},
   "outputs": [],
   "source": [
    "for i in range(101,201):\n",
    "    path = f'imagens/original/{i}.png'\n",
    "    img = cv2.imread(path, 0)\n",
    "    _, imgTratada = cv2.threshold(\n",
    "        img, 127, 255, cv2.THRESH_BINARY or cv2.THRESH_OTSU)\n",
    "    cv2.imwrite(f'imagens/tratada/{i}.png', imgTratada)"
   ]
  },
  {
   "cell_type": "code",
   "execution_count": 157,
   "metadata": {},
   "outputs": [],
   "source": [
    "path = f'imagens/tratada/1.png'\n",
    "imagem = cv2.imread(path)\n",
    "imagem = imagem[0:50, 40:160]\n",
    "imagem = cv2.cvtColor(imagem, cv2.COLOR_RGB2GRAY)\n",
    "_, nova_imagem = cv2.threshold(imagem, 0, 255, cv2.THRESH_BINARY_INV)\n"
   ]
  },
  {
   "cell_type": "code",
   "execution_count": 169,
   "metadata": {},
   "outputs": [],
   "source": [
    "contornos, _ = cv2.findContours(\n",
    "    nova_imagem, cv2.RETR_EXTERNAL, cv2.CHAIN_APPROX_NONE)"
   ]
  },
  {
   "cell_type": "code",
   "execution_count": 170,
   "metadata": {},
   "outputs": [],
   "source": [
    "regiao_letras = list()\n",
    "for contorno in contornos:\n",
    "        (x, y, largura, altura) = cv2.boundingRect(contorno)\n",
    "        area = cv2.contourArea(contorno)\n",
    "        regiao_letras.append((x, y, largura, altura))"
   ]
  },
  {
   "cell_type": "code",
   "execution_count": 175,
   "metadata": {},
   "outputs": [
    {
     "data": {
      "text/plain": [
       "True"
      ]
     },
     "execution_count": 175,
     "metadata": {},
     "output_type": "execute_result"
    }
   ],
   "source": [
    "x, y, largura, altura = regiao_letras[2]\n",
    "imagem_letra = imagem_final[y-2:y+altura+2, x-2:x+largura+2]\n",
    "cv2.imwrite('letra.png', imagem_letra)"
   ]
  },
  {
   "cell_type": "code",
   "execution_count": 158,
   "metadata": {},
   "outputs": [
    {
     "data": {
      "text/plain": [
       "True"
      ]
     },
     "execution_count": 158,
     "metadata": {},
     "output_type": "execute_result"
    }
   ],
   "source": [
    "\n",
    "cv2.imwrite('test.png', nova_imagem)"
   ]
  },
  {
   "cell_type": "markdown",
   "metadata": {},
   "source": [
    "CROP IMAGES"
   ]
  },
  {
   "cell_type": "code",
   "execution_count": 179,
   "metadata": {},
   "outputs": [],
   "source": [
    "path = f'imagens/tratada/1.png'\n",
    "img = cv2.imread(path, 0)\n"
   ]
  },
  {
   "cell_type": "code",
   "execution_count": 183,
   "metadata": {},
   "outputs": [
    {
     "data": {
      "text/plain": [
       "True"
      ]
     },
     "execution_count": 183,
     "metadata": {},
     "output_type": "execute_result"
    }
   ],
   "source": [
    "newimg = img[0:50, 40:160]\n",
    "cv2.imwrite('test.png', newimg)"
   ]
  },
  {
   "cell_type": "code",
   "execution_count": 8,
   "metadata": {},
   "outputs": [],
   "source": [
    "for i in range(101,201):\n",
    "    pathOrigen = f'imagens/tratada/{i}.png'\n",
    "    pathDestino = f'imagens/cortada/{i}.png'\n",
    "    img = cv2.imread(pathOrigen, 0)\n",
    "    newimg = img[0:50, 40:160]\n",
    "    cv2.imwrite(pathDestino, newimg) "
   ]
  },
  {
   "cell_type": "markdown",
   "metadata": {},
   "source": [
    "CROP LETTERS"
   ]
  },
  {
   "cell_type": "code",
   "execution_count": 9,
   "metadata": {},
   "outputs": [],
   "source": [
    "for i in range(101,201):\n",
    "    pathOrigen = f'imagens/cortada/{i}.png'\n",
    "    img = cv2.imread(pathOrigen, 0)\n",
    "    letra1 = img[0:50, 0:24]\n",
    "    cv2.imwrite(f'imagens/letras/{i}_1.png', letra1) \n",
    "    letra2 = img[0:50, 24:48]\n",
    "    cv2.imwrite(f'imagens/letras/{i}_2.png', letra2) \n",
    "    letra3 = img[0:50, 48:72]\n",
    "    cv2.imwrite(f'imagens/letras/{i}_3.png', letra3) \n",
    "    letra4 = img[0:50, 72:96]\n",
    "    cv2.imwrite(f'imagens/letras/{i}_4.png', letra4) \n",
    "    letra5 = img[0:50, 96:120]\n",
    "    cv2.imwrite(f'imagens/letras/{i}_5.png', letra5) \n",
    " "
   ]
  }
 ],
 "metadata": {
  "kernelspec": {
   "display_name": "Python 3.10.1 ('venv': venv)",
   "language": "python",
   "name": "python3"
  },
  "language_info": {
   "codemirror_mode": {
    "name": "ipython",
    "version": 3
   },
   "file_extension": ".py",
   "mimetype": "text/x-python",
   "name": "python",
   "nbconvert_exporter": "python",
   "pygments_lexer": "ipython3",
   "version": "3.10.1"
  },
  "orig_nbformat": 4,
  "vscode": {
   "interpreter": {
    "hash": "390798e0eaedcd79897607a771b23f78edc01d17e862f234591386371553dae0"
   }
  }
 },
 "nbformat": 4,
 "nbformat_minor": 2
}
