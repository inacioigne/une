{
 "cells": [
  {
   "cell_type": "code",
   "execution_count": 1,
   "metadata": {},
   "outputs": [],
   "source": [
    "import cv2\n",
    "from getCaptcha import GetCaptcha"
   ]
  },
  {
   "cell_type": "markdown",
   "metadata": {},
   "source": [
    "GET IMAGEMS"
   ]
  },
  {
   "cell_type": "code",
   "execution_count": null,
   "metadata": {},
   "outputs": [],
   "source": [
    "url = 'http://pergamum.museu-goeldi.br:8080/pergamumweb/kaptcha.jpg'\n",
    "for i in range(201,301):\n",
    "    print(i)\n",
    "    r = GetCaptcha(url)\n",
    "    if r.status_code == 200:\n",
    "        with open(f'imagens/original/{i}.png', 'wb') as img:\n",
    "            img.write(r.content)\n",
    "            img.close\n",
    "    else:\n",
    "        print('ERROU', i)"
   ]
  },
  {
   "cell_type": "code",
   "execution_count": 9,
   "metadata": {},
   "outputs": [],
   "source": [
    "count = 0\n",
    "for metodo in metodos:\n",
    "    count += 1\n",
    "    _, imgTratada = cv2.threshold(imgGray, 127, 255, metodo or cv2.THRESH_OTSU)\n",
    "    cv2.imwrite(f'imagens/test_{count}.png', imgTratada)"
   ]
  },
  {
   "cell_type": "markdown",
   "metadata": {},
   "source": [
    "TRATAMENTO DE IMAGENS"
   ]
  },
  {
   "cell_type": "code",
   "execution_count": 5,
   "metadata": {},
   "outputs": [],
   "source": [
    "for i in range(201,301):\n",
    "    path = f'imagens/original/{i}.png'\n",
    "    img = cv2.imread(path, 0)\n",
    "    _, imgTratada = cv2.threshold(\n",
    "        img, 127, 255, cv2.THRESH_BINARY or cv2.THRESH_OTSU)\n",
    "    cv2.imwrite(f'imagens/tratada/{i}.png', imgTratada)"
   ]
  },
  {
   "cell_type": "markdown",
   "metadata": {},
   "source": [
    "CROP IMAGES"
   ]
  },
  {
   "cell_type": "code",
   "execution_count": 6,
   "metadata": {},
   "outputs": [],
   "source": [
    "for i in range(201,301):\n",
    "    pathOrigen = f'imagens/tratada/{i}.png'\n",
    "    pathDestino = f'imagens/cortada/{i}.png'\n",
    "    img = cv2.imread(pathOrigen, 0)\n",
    "    newimg = img[0:50, 40:160]\n",
    "    cv2.imwrite(pathDestino, newimg) "
   ]
  },
  {
   "cell_type": "markdown",
   "metadata": {},
   "source": [
    "CROP LETTERS"
   ]
  },
  {
   "cell_type": "code",
   "execution_count": 7,
   "metadata": {},
   "outputs": [],
   "source": [
    "for i in range(201,301):\n",
    "    pathOrigen = f'imagens/cortada/{i}.png'\n",
    "    img = cv2.imread(pathOrigen, 0)\n",
    "    letra1 = img[0:50, 0:24]\n",
    "    cv2.imwrite(f'imagens/letras/{i}_1.png', letra1) \n",
    "    letra2 = img[0:50, 24:48]\n",
    "    cv2.imwrite(f'imagens/letras/{i}_2.png', letra2) \n",
    "    letra3 = img[0:50, 48:72]\n",
    "    cv2.imwrite(f'imagens/letras/{i}_3.png', letra3) \n",
    "    letra4 = img[0:50, 72:96]\n",
    "    cv2.imwrite(f'imagens/letras/{i}_4.png', letra4) \n",
    "    letra5 = img[0:50, 96:120]\n",
    "    cv2.imwrite(f'imagens/letras/{i}_5.png', letra5) \n",
    " "
   ]
  }
 ],
 "metadata": {
  "kernelspec": {
   "display_name": "Python 3.10.4 ('venv': venv)",
   "language": "python",
   "name": "python3"
  },
  "language_info": {
   "codemirror_mode": {
    "name": "ipython",
    "version": 3
   },
   "file_extension": ".py",
   "mimetype": "text/x-python",
   "name": "python",
   "nbconvert_exporter": "python",
   "pygments_lexer": "ipython3",
   "version": "3.10.4"
  },
  "orig_nbformat": 4,
  "vscode": {
   "interpreter": {
    "hash": "d30f87e24bb273b0212f80a991731c78462f6b310854837fd34d4e9b6673dc91"
   }
  }
 },
 "nbformat": 4,
 "nbformat_minor": 2
}
