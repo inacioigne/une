{
 "cells": [
  {
   "cell_type": "code",
   "execution_count": 44,
   "metadata": {},
   "outputs": [],
   "source": [
    "import cv2\n",
    "import os\n",
    "import numpy as np\n",
    "import pandas as pd\n",
    "import seaborn as sns\n",
    "from imutils import paths\n",
    "from sklearn.preprocessing import LabelBinarizer\n",
    "from sklearn.model_selection import train_test_split\n",
    "\n"
   ]
  },
  {
   "cell_type": "code",
   "execution_count": 50,
   "metadata": {},
   "outputs": [],
   "source": [
    "import pickle"
   ]
  },
  {
   "cell_type": "code",
   "execution_count": 54,
   "metadata": {},
   "outputs": [],
   "source": [
    "from keras.models import Sequential\n",
    "from keras.layers.convolutional import Conv2D, MaxPooling2D\n",
    "from keras.layers.core import Flatten, Dense\n"
   ]
  },
  {
   "cell_type": "code",
   "execution_count": 25,
   "metadata": {},
   "outputs": [],
   "source": [
    "labels = list()\n",
    "#targets = list()\n",
    "dados = list()\n",
    "pathImagens = paths.list_images('imagens\\db')\n",
    "for path in pathImagens:\n",
    "    label = path.split(\"\\\\\")[2].split(\"_\")[1]\n",
    "    target = path.split(\"\\\\\")[2].split(\"_\")[0]\n",
    "    labels.append(label)\n",
    "    #targets.append(int(target))\n",
    "    img = cv2.imread(path, 0)\n",
    "    img = np.expand_dims(img, axis=2)\n",
    "    #dados.append(img.flatten())\n",
    "    dados.append(img)\n",
    "    "
   ]
  },
  {
   "cell_type": "code",
   "execution_count": 31,
   "metadata": {},
   "outputs": [],
   "source": [
    "dados = np.array(dados, dtype='float') / 255\n",
    "labels = np.array(labels)"
   ]
  },
  {
   "cell_type": "code",
   "execution_count": 57,
   "metadata": {},
   "outputs": [
    {
     "data": {
      "text/plain": [
       "(50, 24, 1)"
      ]
     },
     "execution_count": 57,
     "metadata": {},
     "output_type": "execute_result"
    }
   ],
   "source": [
    "dados[0].shape"
   ]
  },
  {
   "cell_type": "code",
   "execution_count": 38,
   "metadata": {},
   "outputs": [],
   "source": [
    "(X_train, X_test, y_train, y_test) = train_test_split(dados, labels, test_size=0.25, random_state=0)"
   ]
  },
  {
   "cell_type": "code",
   "execution_count": 45,
   "metadata": {},
   "outputs": [],
   "source": [
    "lb = LabelBinarizer().fit(y_train)\n",
    "y_train = lb.transform(y_train)\n",
    "y_test = lb.transform(y_test)"
   ]
  },
  {
   "cell_type": "code",
   "execution_count": null,
   "metadata": {},
   "outputs": [],
   "source": [
    "with open('label.dat', 'wb') as file:\n",
    "    pickle.dump(lb, file)\n",
    "    file.close()"
   ]
  },
  {
   "cell_type": "markdown",
   "metadata": {},
   "source": [
    "TREINO"
   ]
  },
  {
   "cell_type": "code",
   "execution_count": 69,
   "metadata": {},
   "outputs": [],
   "source": [
    "model = Sequential()"
   ]
  },
  {
   "cell_type": "markdown",
   "metadata": {},
   "source": [
    "1 Camada"
   ]
  },
  {
   "cell_type": "code",
   "execution_count": 70,
   "metadata": {},
   "outputs": [],
   "source": [
    "model.add(Conv2D(\n",
    "    20, (5, 5),\n",
    "    padding=\"same\",\n",
    "    input_shape=(50,24,1),\n",
    "    activation=\"relu\"\n",
    "))\n",
    "\n",
    "model.add(MaxPooling2D(pool_size=(2,2), strides=(2,2)))"
   ]
  },
  {
   "cell_type": "markdown",
   "metadata": {},
   "source": [
    "2 Camada"
   ]
  },
  {
   "cell_type": "code",
   "execution_count": 71,
   "metadata": {},
   "outputs": [],
   "source": [
    "model.add(Conv2D(\n",
    "    50, (5, 5),\n",
    "    padding=\"same\",\n",
    "    input_shape=(50,24,1),\n",
    "    activation=\"relu\"\n",
    "))\n",
    "\n",
    "model.add(MaxPooling2D(pool_size=(2,2), strides=(2,2)))"
   ]
  },
  {
   "cell_type": "code",
   "execution_count": 72,
   "metadata": {},
   "outputs": [],
   "source": [
    "model.add(Flatten())\n",
    "model.add(Dense(500, activation=\"relu\"))"
   ]
  },
  {
   "cell_type": "code",
   "execution_count": 73,
   "metadata": {},
   "outputs": [],
   "source": [
    "model.add(Dense(20, activation=\"softmax\"))"
   ]
  },
  {
   "cell_type": "code",
   "execution_count": 74,
   "metadata": {},
   "outputs": [],
   "source": [
    "model.compile(loss=\"categorical_crossentropy\", optimizer=\"adam\", metrics=[\"accuracy\"] )"
   ]
  },
  {
   "cell_type": "code",
   "execution_count": 75,
   "metadata": {},
   "outputs": [
    {
     "name": "stdout",
     "output_type": "stream",
     "text": [
      "Epoch 1/10\n",
      "30/30 [==============================] - 2s 50ms/step - loss: 2.7519 - accuracy: 0.2294 - val_loss: 1.8673 - val_accuracy: 0.4902\n",
      "Epoch 2/10\n",
      "30/30 [==============================] - 1s 41ms/step - loss: 1.1829 - accuracy: 0.6461 - val_loss: 0.8891 - val_accuracy: 0.7216\n",
      "Epoch 3/10\n",
      "30/30 [==============================] - 1s 43ms/step - loss: 0.5298 - accuracy: 0.8414 - val_loss: 0.5522 - val_accuracy: 0.8510\n",
      "Epoch 4/10\n",
      "30/30 [==============================] - 1s 37ms/step - loss: 0.2718 - accuracy: 0.9187 - val_loss: 0.4472 - val_accuracy: 0.8667\n",
      "Epoch 5/10\n",
      "30/30 [==============================] - 1s 39ms/step - loss: 0.1120 - accuracy: 0.9764 - val_loss: 0.3497 - val_accuracy: 0.8863\n",
      "Epoch 6/10\n",
      "30/30 [==============================] - 1s 49ms/step - loss: 0.0807 - accuracy: 0.9817 - val_loss: 0.3569 - val_accuracy: 0.8902\n",
      "Epoch 7/10\n",
      "30/30 [==============================] - 2s 55ms/step - loss: 0.0433 - accuracy: 0.9921 - val_loss: 0.3328 - val_accuracy: 0.8863\n",
      "Epoch 8/10\n",
      "30/30 [==============================] - 1s 48ms/step - loss: 0.0193 - accuracy: 0.9948 - val_loss: 0.4543 - val_accuracy: 0.8902\n",
      "Epoch 9/10\n",
      "30/30 [==============================] - 1s 49ms/step - loss: 0.0183 - accuracy: 0.9974 - val_loss: 0.3640 - val_accuracy: 0.9059\n",
      "Epoch 10/10\n",
      "30/30 [==============================] - 1s 40ms/step - loss: 0.0071 - accuracy: 0.9974 - val_loss: 0.3387 - val_accuracy: 0.9137\n"
     ]
    },
    {
     "data": {
      "text/plain": [
       "<keras.callbacks.History at 0x2435e7ec430>"
      ]
     },
     "execution_count": 75,
     "metadata": {},
     "output_type": "execute_result"
    }
   ],
   "source": [
    "model.fit(\n",
    "    X_train, y_train, \n",
    "    validation_data=(X_test, y_test),\n",
    "    batch_size=26,\n",
    "    epochs=10,\n",
    "    verbose=1\n",
    "    )"
   ]
  },
  {
   "cell_type": "code",
   "execution_count": 76,
   "metadata": {},
   "outputs": [],
   "source": [
    "model.save(\"modelo_treinado.hdf5\")"
   ]
  }
 ],
 "metadata": {
  "kernelspec": {
   "display_name": "Python 3.10.4 ('venv': venv)",
   "language": "python",
   "name": "python3"
  },
  "language_info": {
   "codemirror_mode": {
    "name": "ipython",
    "version": 3
   },
   "file_extension": ".py",
   "mimetype": "text/x-python",
   "name": "python",
   "nbconvert_exporter": "python",
   "pygments_lexer": "ipython3",
   "version": "3.10.4"
  },
  "orig_nbformat": 4,
  "vscode": {
   "interpreter": {
    "hash": "d30f87e24bb273b0212f80a991731c78462f6b310854837fd34d4e9b6673dc91"
   }
  }
 },
 "nbformat": 4,
 "nbformat_minor": 2
}
