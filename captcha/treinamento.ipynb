{
 "cells": [
  {
   "cell_type": "code",
   "execution_count": 2,
   "metadata": {},
   "outputs": [],
   "source": [
    "import cv2\n",
    "import os\n",
    "import numpy as np\n",
    "import pickle\n",
    "from imutils import paths\n",
    "from sklearn.preprocessing import LabelBinarizer\n",
    "from sklearn.model_selection import train_test_split\n"
   ]
  },
  {
   "cell_type": "code",
   "execution_count": 50,
   "metadata": {},
   "outputs": [],
   "source": [
    "import pandas as pd"
   ]
  },
  {
   "cell_type": "code",
   "execution_count": null,
   "metadata": {},
   "outputs": [],
   "source": [
    "from keras.models import Sequential\n",
    "from keras.layers.convolutional import Conv2D, MaxPooling2D\n",
    "from keras.layers.core import Flatten, Dense\n"
   ]
  },
  {
   "cell_type": "code",
   "execution_count": 35,
   "metadata": {},
   "outputs": [],
   "source": [
    "pathImagens = paths.list_images('imagens\\db')"
   ]
  },
  {
   "cell_type": "code",
   "execution_count": 25,
   "metadata": {},
   "outputs": [],
   "source": [
    "labels = list()\n",
    "dados = list()"
   ]
  },
  {
   "cell_type": "code",
   "execution_count": 47,
   "metadata": {},
   "outputs": [
    {
     "data": {
      "text/plain": [
       "482"
      ]
     },
     "execution_count": 47,
     "metadata": {},
     "output_type": "execute_result"
    }
   ],
   "source": [
    "len(dados)"
   ]
  },
  {
   "cell_type": "code",
   "execution_count": 41,
   "metadata": {},
   "outputs": [
    {
     "data": {
      "text/plain": [
       "(50, 24)"
      ]
     },
     "execution_count": 41,
     "metadata": {},
     "output_type": "execute_result"
    }
   ],
   "source": [
    "img = cv2.imread(i, 0)\n",
    "img.shape"
   ]
  },
  {
   "cell_type": "code",
   "execution_count": 43,
   "metadata": {},
   "outputs": [
    {
     "data": {
      "text/plain": [
       "array([255, 255, 255, ..., 255, 255, 255], dtype=uint8)"
      ]
     },
     "execution_count": 43,
     "metadata": {},
     "output_type": "execute_result"
    }
   ],
   "source": [
    "img.flatten()"
   ]
  },
  {
   "cell_type": "code",
   "execution_count": null,
   "metadata": {},
   "outputs": [],
   "source": [
    "for path in pathImagens:\n",
    "    img = cv2.imread(path, 0)\n",
    "    dados.append(img.flatten())\n",
    "    #labels.append(i.split('\\\\')[2])\n",
    "    print(path)"
   ]
  },
  {
   "cell_type": "code",
   "execution_count": 49,
   "metadata": {},
   "outputs": [],
   "source": [
    "colunas = [f'p{i}' for i in range(1200)]"
   ]
  },
  {
   "cell_type": "code",
   "execution_count": 52,
   "metadata": {},
   "outputs": [],
   "source": [
    "df = pd.DataFrame(dados, columns = colunas)"
   ]
  },
  {
   "cell_type": "code",
   "execution_count": 72,
   "metadata": {},
   "outputs": [],
   "source": [
    "df['labels'] = labels"
   ]
  },
  {
   "cell_type": "code",
   "execution_count": 56,
   "metadata": {},
   "outputs": [],
   "source": [
    "df.to_csv('df_imagens.csv', index=False)"
   ]
  },
  {
   "cell_type": "code",
   "execution_count": 57,
   "metadata": {},
   "outputs": [],
   "source": [
    "from sklearn.svm import SVC"
   ]
  },
  {
   "cell_type": "code",
   "execution_count": 58,
   "metadata": {},
   "outputs": [],
   "source": [
    "train = df.drop(columns='target')"
   ]
  },
  {
   "cell_type": "code",
   "execution_count": 95,
   "metadata": {},
   "outputs": [],
   "source": [
    "def transform_categore(valor):\n",
    "  if valor == 'A':\n",
    "    return 9\n",
    "  elif valor == 'B':\n",
    "    return 10\n",
    "  elif valor == 'C':\n",
    "    return 11\n",
    "  elif valor == 'D':\n",
    "    return 12\n",
    "  elif valor == 'E':\n",
    "    return 13\n",
    "  elif valor == 'F':\n",
    "    return 14\n",
    "  elif valor == 'G':\n",
    "    return 15\n",
    "  elif valor == 'M':\n",
    "    return 16\n",
    "  elif valor == 'P':\n",
    "    return 17\n",
    "  elif valor == 'W':\n",
    "    return 18\n",
    "  elif valor == 'X':\n",
    "    return 19\n",
    "  elif valor == 'Y':\n",
    "    return 20\n",
    "  if valor == '2':\n",
    "    return 2\n",
    "  elif valor == '3':\n",
    "    return 3\n",
    "  elif valor == '4':\n",
    "    return 4\n",
    "  elif valor == '5':\n",
    "    return 5\n",
    "  elif valor == '6':\n",
    "    return 6\n",
    "  elif valor == '7':\n",
    "    return 7\n",
    "  elif valor == '8':\n",
    "    return 8\n",
    "\n",
    "\n",
    "\n",
    "df['target'] = df['labels'].map(transform_categore)"
   ]
  },
  {
   "cell_type": "code",
   "execution_count": 97,
   "metadata": {},
   "outputs": [
    {
     "name": "stdout",
     "output_type": "stream",
     "text": [
      "<class 'pandas.core.series.Series'>\n",
      "RangeIndex: 482 entries, 0 to 481\n",
      "Series name: labels\n",
      "Non-Null Count  Dtype \n",
      "--------------  ----- \n",
      "482 non-null    object\n",
      "dtypes: object(1)\n",
      "memory usage: 3.9+ KB\n"
     ]
    }
   ],
   "source": [
    "df.labels.info()"
   ]
  },
  {
   "cell_type": "code",
   "execution_count": 96,
   "metadata": {},
   "outputs": [
    {
     "name": "stdout",
     "output_type": "stream",
     "text": [
      "<class 'pandas.core.series.Series'>\n",
      "RangeIndex: 482 entries, 0 to 481\n",
      "Series name: target\n",
      "Non-Null Count  Dtype  \n",
      "--------------  -----  \n",
      "437 non-null    float64\n",
      "dtypes: float64(1)\n",
      "memory usage: 3.9 KB\n"
     ]
    }
   ],
   "source": [
    "df.target.info()"
   ]
  },
  {
   "cell_type": "code",
   "execution_count": 92,
   "metadata": {},
   "outputs": [
    {
     "name": "stdout",
     "output_type": "stream",
     "text": [
      "<class 'pandas.core.series.Series'>\n",
      "RangeIndex: 482 entries, 0 to 481\n",
      "Series name: target\n",
      "Non-Null Count  Dtype  \n",
      "--------------  -----  \n",
      "437 non-null    float64\n",
      "dtypes: float64(1)\n",
      "memory usage: 3.9 KB\n"
     ]
    }
   ],
   "source": [
    "df.target.info()"
   ]
  },
  {
   "cell_type": "code",
   "execution_count": 80,
   "metadata": {},
   "outputs": [
    {
     "data": {
      "text/plain": [
       "<bound method DataFrame.info of       p0   p1   p2   p3   p4   p5   p6   p7   p8   p9  ...  p1192  p1193  \\\n",
       "0    255  255  255  255  255  255  255  255  255  255  ...    255    255   \n",
       "1    255  255  255  255  255  255  255  255  255  255  ...    255    255   \n",
       "2    255  255  255  255  255  255  255  255  255  255  ...    255    255   \n",
       "3    255  255  255  255  255  255  255  255  255  255  ...    255    255   \n",
       "4    255  255  255  255  255  255  255  255  255  255  ...    255    255   \n",
       "..   ...  ...  ...  ...  ...  ...  ...  ...  ...  ...  ...    ...    ...   \n",
       "477  255  255  255  255  255  255  255  255  255  255  ...    255    255   \n",
       "478  255  255  255  255  255  255  255  255  255  255  ...    255    255   \n",
       "479  255  255  255  255  255  255  255  255  255  255  ...    255    255   \n",
       "480  255  255  255  255  255  255  255  255  255  255  ...    255    255   \n",
       "481  255  255  255  255  255  255  255  255  255  255  ...      0      0   \n",
       "\n",
       "     p1194  p1195  p1196  p1197  p1198  p1199  target  labels  \n",
       "0      255    255    255    255    255    255     2.0       2  \n",
       "1      255    255    255    255    255    255     2.0       2  \n",
       "2      255    255    255    255    255    255     2.0       2  \n",
       "3      255    255    255    255    255    255     2.0       2  \n",
       "4      255    255    255    255    255    255     2.0       2  \n",
       "..     ...    ...    ...    ...    ...    ...     ...     ...  \n",
       "477    255    255    255    255    255    255    19.0       Y  \n",
       "478    255    255    255    255    255    255    19.0       Y  \n",
       "479    255    255    255    255    255    255    19.0       Y  \n",
       "480    255    255    255    255    255    255    19.0       Y  \n",
       "481      0    255    255    255    255    255    19.0       Y  \n",
       "\n",
       "[482 rows x 1202 columns]>"
      ]
     },
     "execution_count": 80,
     "metadata": {},
     "output_type": "execute_result"
    }
   ],
   "source": [
    "df.info"
   ]
  }
 ],
 "metadata": {
  "kernelspec": {
   "display_name": "Python 3.10.4 ('venv': venv)",
   "language": "python",
   "name": "python3"
  },
  "language_info": {
   "codemirror_mode": {
    "name": "ipython",
    "version": 3
   },
   "file_extension": ".py",
   "mimetype": "text/x-python",
   "name": "python",
   "nbconvert_exporter": "python",
   "pygments_lexer": "ipython3",
   "version": "3.10.4"
  },
  "orig_nbformat": 4,
  "vscode": {
   "interpreter": {
    "hash": "d30f87e24bb273b0212f80a991731c78462f6b310854837fd34d4e9b6673dc91"
   }
  }
 },
 "nbformat": 4,
 "nbformat_minor": 2
}
