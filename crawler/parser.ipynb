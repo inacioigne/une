{
 "cells": [
  {
   "cell_type": "code",
   "execution_count": 3,
   "metadata": {},
   "outputs": [
    {
     "ename": "SyntaxError",
     "evalue": "invalid syntax (2220987596.py, line 4)",
     "output_type": "error",
     "traceback": [
      "\u001b[1;36m  Cell \u001b[1;32mIn [3], line 4\u001b[1;36m\u001b[0m\n\u001b[1;33m    from une-crawler.crawlerFunctions import config\u001b[0m\n\u001b[1;37m            ^\u001b[0m\n\u001b[1;31mSyntaxError\u001b[0m\u001b[1;31m:\u001b[0m invalid syntax\n"
     ]
    }
   ],
   "source": [
    "import json\n",
    "#import config\n",
    "from os import listdir\n",
    "from une-crawler.crawlerFunctions import config"
   ]
  },
  {
   "cell_type": "code",
   "execution_count": 2,
   "metadata": {},
   "outputs": [],
   "source": [
    "def Transforme(s):\n",
    "    repetiveis = config.MARC_REPETIVEL\n",
    "\n",
    "    controfield = {}\n",
    "    for i in s['controfield']:\n",
    "        controfield[i['code']] = i['value']\n",
    "\n",
    "    \n",
    "    datafield =  {}\n",
    "    for i in s['datafield']:\n",
    "        subfield = {}\n",
    "        for k, v in i['subfield'].items():\n",
    "            subfield[k] = v.rstrip()\n",
    "        if i['code'] not in repetiveis:\n",
    "            datafield[i['code']] = subfield\n",
    "        else:\n",
    "            if i['code'] not in datafield.keys():\n",
    "                datafield[i['code']] = [subfield]\n",
    "            else:\n",
    "                datafield[i['code']].append(subfield)\n",
    "    \n",
    "    marcJson = {'controfield': controfield, 'datafield': datafield}\n",
    "    return marcJson"
   ]
  },
  {
   "cell_type": "code",
   "execution_count": 58,
   "metadata": {},
   "outputs": [
    {
     "name": "stdout",
     "output_type": "stream",
     "text": [
      "82055.json\n"
     ]
    }
   ],
   "source": [
    "mes = 'mar'\n",
    "j = listdir(f'out\\mcti/{mes}')\n",
    "for i in j:\n",
    "    path = f'out\\mcti\\{mes}/{i}'\n",
    "    with open(path, encoding=\"utf-8\") as file_json:\n",
    "        s = json.loads(file_json.read())\n",
    "    marc = Transforme(s)\n",
    "    with open(\n",
    "        f\"out/mcti/{i}\",\"w\", encoding='utf-8') as jsonfile:\n",
    "        json.dump(marc, jsonfile, ensure_ascii=False, indent=4)\n",
    "    print(i)"
   ]
  },
  {
   "cell_type": "code",
   "execution_count": null,
   "metadata": {},
   "outputs": [],
   "source": [
    "path = 'out\\inpe/01-01-22_31-08-22/7177.json'\n",
    "with open(path, encoding=\"utf-8\") as file_json:\n",
    "    s = json.loads(file_json.read())\n",
    "    file_json.close()\n",
    "s\n"
   ]
  },
  {
   "cell_type": "code",
   "execution_count": 3,
   "metadata": {},
   "outputs": [],
   "source": [
    "def ParserMarc700(v, solr_doc):\n",
    "    for i in v:\n",
    "        responsabilty = f'marc700{i.get(\"e\")}'\n",
    "        if responsabilty not in solr_doc.keys():\n",
    "            solr_doc[responsabilty] = [i.get('a')]\n",
    "        else:\n",
    "            solr_doc[responsabilty].append(i.get('a'))\n",
    "    return solr_doc\n",
    "    "
   ]
  },
  {
   "cell_type": "code",
   "execution_count": 4,
   "metadata": {},
   "outputs": [],
   "source": [
    "def ParserMarc6XX(k, v, solr_doc):\n",
    "    for i in v:\n",
    "        \n",
    "        #Parser Simple\n",
    "        simple = f'marc{k}a'\n",
    "        if simple not in solr_doc.keys():\n",
    "            solr_doc[simple] = [i.get('a')]\n",
    "        else:\n",
    "            solr_doc[simple].append(i.get('a'))\n",
    "        \n",
    "        #Parser Full\n",
    "        subfields = list()\n",
    "        for _, vs in i.items():\n",
    "            subfields.append(vs)\n",
    "        subfields = \"--\".join(subfields)\n",
    "        full = f'marc{k}completo'\n",
    "        if full not in solr_doc.keys():\n",
    "            solr_doc[full] = [subfields]\n",
    "        else:\n",
    "            solr_doc[full].append(subfields)\n",
    "    return solr_doc"
   ]
  },
  {
   "cell_type": "code",
   "execution_count": 6,
   "metadata": {},
   "outputs": [],
   "source": [
    "def ParserSolr(s, institution):\n",
    "\n",
    "    solr_doc = {\n",
    "        'id': int(s.get('controfield').get('001')),\n",
    "        'institution': institution\n",
    "    }\n",
    "\n",
    "    for k, v in s.get('datafield').items():\n",
    "        if isinstance(v, dict):\n",
    "            for ks, vs in v.items():\n",
    "                solr_doc[f'marc{k}{ks}'] = vs\n",
    "        else:\n",
    "            #ParserMarc700\n",
    "            if k == '700':\n",
    "                solr_doc = ParserMarc700(v, solr_doc)\n",
    "            #ParserMarc6XX\n",
    "            elif k[0] == '6':\n",
    "                solr_doc = ParserMarc6XX(k, v, solr_doc)\n",
    "            else:\n",
    "                for subfield in v:\n",
    "                    for ks, vs in subfield.items():\n",
    "                        tag = f'marc{k}{ks}'\n",
    "                        if tag not in solr_doc.keys():\n",
    "                            solr_doc[tag] = [vs]\n",
    "                        else:\n",
    "                            solr_doc[tag].append(vs)\n",
    "        \n",
    "    return solr_doc\n",
    "#solr_doc = ParserSolr(s, 'Goeldi')"
   ]
  },
  {
   "cell_type": "code",
   "execution_count": 9,
   "metadata": {},
   "outputs": [
    {
     "data": {
      "text/plain": [
       "{'id': 7177,\n",
       " 'institution': 'INPE',\n",
       " 'marc080a': '551.510.42',\n",
       " 'marc090b': 'Am35L ',\n",
       " 'marc090a': '551.510.42',\n",
       " 'marc111a': 'American Meteorological Society Workshop on Meteorology and Environmental Assessment (1975: Boston, MA)',\n",
       " 'marc245a': 'Lectures on air pollution and environmental impact analyses, Boston, 29 sep.- 3 oct., 1975',\n",
       " 'marc260a': ['Boston, MA '],\n",
       " 'marc260c': ['1975 '],\n",
       " 'marc260b': ['American Meteorological Society'],\n",
       " 'marc650a': ['Environment Pollution',\n",
       "  'Air Pollution',\n",
       "  'Meteorology',\n",
       "  'Conferences'],\n",
       " 'marc650completo': ['Environment Pollution',\n",
       "  'Air Pollution',\n",
       "  'Meteorology',\n",
       "  'Conferences'],\n",
       " 'marc700Coordenador': ['Haugen, D. A. '],\n",
       " 'marc949a': '71714 ',\n",
       " 'marc949b': 'DBDSJC ',\n",
       " 'marc949e': 'Compra ',\n",
       " 'marc949p': '0 ',\n",
       " 'marc949y': '25/04/78',\n",
       " 'marc990a': 'Livro'}"
      ]
     },
     "execution_count": 9,
     "metadata": {},
     "output_type": "execute_result"
    }
   ],
   "source": [
    "solr_doc"
   ]
  },
  {
   "cell_type": "code",
   "execution_count": null,
   "metadata": {},
   "outputs": [],
   "source": [
    "\n",
    "with open(f'{path}/{listMarcJson[1]}', encoding=\"utf-8\") as file_json:\n",
    "    s = json.loads(file_json.read())\n",
    "    file_json.close()\n",
    "s"
   ]
  },
  {
   "cell_type": "code",
   "execution_count": 116,
   "metadata": {},
   "outputs": [],
   "source": []
  },
  {
   "cell_type": "markdown",
   "metadata": {},
   "source": [
    "CREATE SOLR DOC"
   ]
  },
  {
   "cell_type": "code",
   "execution_count": 10,
   "metadata": {},
   "outputs": [
    {
     "name": "stdout",
     "output_type": "stream",
     "text": [
      "35191.json\n",
      "35192.json\n",
      "35194.json\n",
      "35195.json\n",
      "35197.json\n",
      "35201.json\n",
      "35202.json\n",
      "35203.json\n",
      "35205.json\n",
      "35208.json\n",
      "35221.json\n",
      "35225.json\n",
      "35226.json\n",
      "35227.json\n",
      "35228.json\n",
      "35229.json\n",
      "35297.json\n",
      "35339.json\n",
      "35436.json\n",
      "35450.json\n",
      "35476.json\n",
      "35508.json\n",
      "35510.json\n",
      "35578.json\n",
      "35580.json\n",
      "35581.json\n",
      "35582.json\n",
      "35583.json\n",
      "35584.json\n",
      "35586.json\n",
      "35587.json\n",
      "35588.json\n",
      "35589.json\n",
      "35590.json\n",
      "35591.json\n",
      "35592.json\n",
      "35596.json\n",
      "35597.json\n",
      "35600.json\n",
      "35616.json\n",
      "35618.json\n",
      "35626.json\n"
     ]
    }
   ],
   "source": [
    "path = r'out\\goeldi\\01-09-22_30-09-22'\n",
    "listMarcJson = listdir(path)\n",
    "\n",
    "docs = list()\n",
    "for i in listMarcJson:\n",
    "    with open(f'{path}/{i}', encoding=\"utf-8\") as file_json:\n",
    "        s = json.loads(file_json.read())\n",
    "        solr_doc = ParserSolr(s, 'Goeldi')\n",
    "        docs.append(solr_doc)\n",
    "        print(i)\n",
    "        file_json.close()\n",
    "\n",
    "with open(\n",
    "    f\"out/goeldi/solr.json\", \"w\", encoding='utf-8') as file_json:\n",
    "    json.dump(docs, file_json, ensure_ascii=False, indent=4)\n",
    "    file_json.close()"
   ]
  },
  {
   "cell_type": "code",
   "execution_count": 149,
   "metadata": {},
   "outputs": [],
   "source": []
  }
 ],
 "metadata": {
  "kernelspec": {
   "display_name": "Python 3.10.1 ('venv': venv)",
   "language": "python",
   "name": "python3"
  },
  "language_info": {
   "codemirror_mode": {
    "name": "ipython",
    "version": 3
   },
   "file_extension": ".py",
   "mimetype": "text/x-python",
   "name": "python",
   "nbconvert_exporter": "python",
   "pygments_lexer": "ipython3",
   "version": "3.10.1"
  },
  "orig_nbformat": 4,
  "vscode": {
   "interpreter": {
    "hash": "390798e0eaedcd79897607a771b23f78edc01d17e862f234591386371553dae0"
   }
  }
 },
 "nbformat": 4,
 "nbformat_minor": 2
}
