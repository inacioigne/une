{
 "cells": [
  {
   "cell_type": "code",
   "execution_count": 50,
   "metadata": {},
   "outputs": [],
   "source": [
    "import json\n",
    "import config\n",
    "from os import listdir"
   ]
  },
  {
   "cell_type": "code",
   "execution_count": 37,
   "metadata": {},
   "outputs": [],
   "source": [
    "with open('out\\mcti\\mar\\82055.json', encoding=\"utf-8\") as file_json:\n",
    "    s = json.loads(file_json.read())"
   ]
  },
  {
   "cell_type": "code",
   "execution_count": 31,
   "metadata": {},
   "outputs": [],
   "source": [
    "datafield['700'].append('outro')"
   ]
  },
  {
   "cell_type": "code",
   "execution_count": 28,
   "metadata": {},
   "outputs": [
    {
     "data": {
      "text/plain": [
       "True"
      ]
     },
     "execution_count": 28,
     "metadata": {},
     "output_type": "execute_result"
    }
   ],
   "source": [
    "'020' in datafield.keys()"
   ]
  },
  {
   "cell_type": "code",
   "execution_count": 52,
   "metadata": {},
   "outputs": [],
   "source": [
    "def Transforme(s):\n",
    "    repetiveis = config.MARC_REPETIVEL\n",
    "\n",
    "    controfield = {}\n",
    "    for i in s['controfield']:\n",
    "        controfield[i['code']] = i['value']\n",
    "\n",
    "    \n",
    "    datafield =  {}\n",
    "    for i in s['datafield']:\n",
    "        subfield = {}\n",
    "        for k, v in i['subfield'].items():\n",
    "            subfield[k] = v.rstrip()\n",
    "        if i['code'] not in repetiveis:\n",
    "            datafield[i['code']] = subfield\n",
    "        else:\n",
    "            if i['code'] not in datafield.keys():\n",
    "                datafield[i['code']] = [subfield]\n",
    "            else:\n",
    "                datafield[i['code']].append(subfield)\n",
    "    \n",
    "    marcJson = {'controfield': controfield, 'datafield': datafield}\n",
    "    return marcJson"
   ]
  },
  {
   "cell_type": "code",
   "execution_count": 58,
   "metadata": {},
   "outputs": [
    {
     "name": "stdout",
     "output_type": "stream",
     "text": [
      "82055.json\n"
     ]
    }
   ],
   "source": [
    "mes = 'mar'\n",
    "j = listdir(f'out\\mcti/{mes}')\n",
    "for i in j:\n",
    "    path = f'out\\mcti\\{mes}/{i}'\n",
    "    with open(path, encoding=\"utf-8\") as file_json:\n",
    "        s = json.loads(file_json.read())\n",
    "    marc = Transforme(s)\n",
    "    with open(\n",
    "        f\"out/mcti/{i}\",\"w\", encoding='utf-8') as jsonfile:\n",
    "        json.dump(marc, jsonfile, ensure_ascii=False, indent=4)\n",
    "    print(i)"
   ]
  },
  {
   "cell_type": "code",
   "execution_count": null,
   "metadata": {},
   "outputs": [],
   "source": [
    "path = 'out\\mcti/01-01-22_31-08-22\\82055.json'\n",
    "with open(path, encoding=\"utf-8\") as file_json:\n",
    "    s = json.loads(file_json.read())\n",
    "    file_json.close()\n",
    "s\n"
   ]
  },
  {
   "cell_type": "code",
   "execution_count": 151,
   "metadata": {},
   "outputs": [],
   "source": [
    "def ParserMarc700(v, solr_doc):\n",
    "    for i in v:\n",
    "        responsabilty = f'marc700{i.get(\"e\")}'\n",
    "        if responsabilty not in solr_doc.keys():\n",
    "            solr_doc[responsabilty] = [i.get('a')]\n",
    "        else:\n",
    "            solr_doc[responsabilty].append(i.get('a'))\n",
    "    return solr_doc\n",
    "    "
   ]
  },
  {
   "cell_type": "code",
   "execution_count": 152,
   "metadata": {},
   "outputs": [],
   "source": [
    "def ParserMarc6XX(k, v, solr_doc):\n",
    "    for i in v:\n",
    "        \n",
    "        #Parser Simple\n",
    "        simple = f'marc{k}a'\n",
    "        if simple not in solr_doc.keys():\n",
    "            solr_doc[simple] = [i.get('a')]\n",
    "        else:\n",
    "            solr_doc[simple].append(i.get('a'))\n",
    "        \n",
    "        #Parser Full\n",
    "        subfields = list()\n",
    "        for _, vs in i.items():\n",
    "            subfields.append(vs)\n",
    "        subfields = \"--\".join(subfields)\n",
    "        full = f'marc{k}completo'\n",
    "        if full not in solr_doc.keys():\n",
    "            solr_doc[full] = [subfields]\n",
    "        else:\n",
    "            solr_doc[full].append(subfields)\n",
    "    return solr_doc"
   ]
  },
  {
   "cell_type": "code",
   "execution_count": 153,
   "metadata": {},
   "outputs": [],
   "source": [
    "def ParserSolr(s):\n",
    "\n",
    "    solr_doc = {\n",
    "        'id': int(s.get('controfield').get('001'))\n",
    "    }\n",
    "\n",
    "    for k, v in s.get('datafield').items():\n",
    "        if isinstance(v, dict):\n",
    "            for ks, vs in v.items():\n",
    "                solr_doc[f'marc{k}{ks}'] = vs\n",
    "        else:\n",
    "            #ParserMarc700\n",
    "            if k == '700':\n",
    "                solr_doc = ParserMarc700(v, solr_doc)\n",
    "            #ParserMarc6XX\n",
    "            elif k[0] == '6':\n",
    "                solr_doc = ParserMarc6XX(k, v, solr_doc)\n",
    "            else:\n",
    "                for subfield in v:\n",
    "                    for ks, vs in subfield.items():\n",
    "                        tag = f'marc{k}{ks}'\n",
    "                        if tag not in solr_doc.keys():\n",
    "                            solr_doc[tag] = [vs]\n",
    "                        else:\n",
    "                            solr_doc[tag].append(vs)\n",
    "        \n",
    "    return solr_doc\n",
    "solr_doc = ParserSolr(s)"
   ]
  },
  {
   "cell_type": "code",
   "execution_count": null,
   "metadata": {},
   "outputs": [],
   "source": [
    "\n",
    "with open(f'{path}/{listMarcJson[1]}', encoding=\"utf-8\") as file_json:\n",
    "    s = json.loads(file_json.read())\n",
    "    file_json.close()\n",
    "s"
   ]
  },
  {
   "cell_type": "code",
   "execution_count": 116,
   "metadata": {},
   "outputs": [],
   "source": []
  },
  {
   "cell_type": "markdown",
   "metadata": {},
   "source": [
    "CREATE SOLR DOC"
   ]
  },
  {
   "cell_type": "code",
   "execution_count": 155,
   "metadata": {},
   "outputs": [
    {
     "name": "stdout",
     "output_type": "stream",
     "text": [
      "82055.json\n",
      "83514.json\n",
      "83517.json\n",
      "83518.json\n",
      "83521.json\n",
      "83522.json\n",
      "83523.json\n",
      "83524.json\n",
      "83525.json\n",
      "83527.json\n",
      "83528.json\n",
      "83531.json\n",
      "83534.json\n",
      "83535.json\n",
      "83536.json\n",
      "83547.json\n",
      "83548.json\n",
      "83550.json\n",
      "83551.json\n",
      "83552.json\n",
      "83557.json\n",
      "83560.json\n",
      "83562.json\n",
      "83565.json\n",
      "83566.json\n",
      "83580.json\n",
      "83583.json\n",
      "83584.json\n",
      "83589.json\n",
      "85031.json\n",
      "85032.json\n",
      "85100.json\n",
      "85101.json\n",
      "85196.json\n",
      "85197.json\n",
      "85219.json\n",
      "85239.json\n",
      "85240.json\n",
      "85242.json\n",
      "85244.json\n",
      "85247.json\n",
      "85248.json\n",
      "85249.json\n",
      "85250.json\n",
      "85251.json\n",
      "85286.json\n",
      "85289.json\n",
      "85315.json\n",
      "85316.json\n",
      "85317.json\n",
      "85322.json\n",
      "85430.json\n",
      "85516.json\n",
      "85517.json\n",
      "85518.json\n",
      "85519.json\n",
      "85539.json\n",
      "85715.json\n",
      "85718.json\n",
      "85824.json\n",
      "85827.json\n",
      "85830.json\n",
      "85845.json\n",
      "85846.json\n",
      "85848.json\n",
      "85849.json\n",
      "85855.json\n",
      "85856.json\n",
      "85859.json\n",
      "85860.json\n",
      "85862.json\n",
      "85863.json\n",
      "85864.json\n",
      "85865.json\n",
      "85867.json\n",
      "85868.json\n",
      "85874.json\n",
      "85875.json\n",
      "85876.json\n",
      "85878.json\n",
      "85901.json\n",
      "85902.json\n",
      "85903.json\n",
      "85904.json\n",
      "85905.json\n",
      "85906.json\n",
      "85907.json\n",
      "85908.json\n",
      "85909.json\n",
      "85910.json\n",
      "85911.json\n",
      "85912.json\n",
      "85913.json\n",
      "85915.json\n",
      "85917.json\n",
      "85928.json\n",
      "85929.json\n",
      "85941.json\n",
      "85975.json\n",
      "85977.json\n",
      "85978.json\n",
      "85979.json\n",
      "85980.json\n",
      "85982.json\n",
      "85983.json\n",
      "85984.json\n",
      "85986.json\n",
      "85988.json\n",
      "85989.json\n",
      "85990.json\n",
      "85992.json\n",
      "85994.json\n",
      "85995.json\n",
      "85996.json\n",
      "86002.json\n",
      "86003.json\n",
      "86004.json\n",
      "86005.json\n",
      "86006.json\n",
      "86007.json\n",
      "86008.json\n",
      "86020.json\n",
      "86021.json\n",
      "86022.json\n",
      "86073.json\n",
      "86074.json\n",
      "86079.json\n",
      "86080.json\n"
     ]
    }
   ],
   "source": [
    "path = 'out\\mcti/01-01-22_31-08-22'\n",
    "listMarcJson = listdir(path)\n",
    "\n",
    "docs = list()\n",
    "for i in listMarcJson:\n",
    "    with open(f'{path}/{i}', encoding=\"utf-8\") as file_json:\n",
    "        s = json.loads(file_json.read())\n",
    "        solr_doc = ParserSolr(s)\n",
    "        docs.append(solr_doc)\n",
    "        print(i)\n",
    "        file_json.close()\n",
    "\n",
    "with open(\n",
    "    f\"out/mcti/solr.json\",\"w\", encoding='utf-8') as file_json:\n",
    "    json.dump(docs, file_json, ensure_ascii=False, indent=4)\n",
    "    file_json.close()"
   ]
  },
  {
   "cell_type": "code",
   "execution_count": 149,
   "metadata": {},
   "outputs": [],
   "source": []
  }
 ],
 "metadata": {
  "kernelspec": {
   "display_name": "Python 3.10.1 64-bit",
   "language": "python",
   "name": "python3"
  },
  "language_info": {
   "codemirror_mode": {
    "name": "ipython",
    "version": 3
   },
   "file_extension": ".py",
   "mimetype": "text/x-python",
   "name": "python",
   "nbconvert_exporter": "python",
   "pygments_lexer": "ipython3",
   "version": "3.10.1"
  },
  "orig_nbformat": 4,
  "vscode": {
   "interpreter": {
    "hash": "b4cba39f77a629ec4f1316d9e8d4fef11aa6208097c7a8cc31e8e8227d97a5c0"
   }
  }
 },
 "nbformat": 4,
 "nbformat_minor": 2
}
