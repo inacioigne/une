{
 "cells": [
  {
   "cell_type": "code",
   "execution_count": 1,
   "metadata": {},
   "outputs": [],
   "source": [
    "import config\n",
    "from selenium import webdriver\n",
    "from selenium.webdriver.chrome.options import Options\n",
    "from selenium.webdriver.common.by import By\n",
    "import cv2"
   ]
  },
  {
   "cell_type": "code",
   "execution_count": 3,
   "metadata": {},
   "outputs": [],
   "source": [
    "from break_captcha import BreakCaptcha"
   ]
  },
  {
   "cell_type": "code",
   "execution_count": 4,
   "metadata": {},
   "outputs": [
    {
     "name": "stderr",
     "output_type": "stream",
     "text": [
      "C:\\Users\\Usuário\\AppData\\Local\\Temp\\ipykernel_10728\\1766906669.py:3: DeprecationWarning: executable_path has been deprecated, please pass in a Service object\n",
      "  driver = webdriver.Chrome(\n"
     ]
    }
   ],
   "source": [
    "options = webdriver.ChromeOptions()\n",
    "#options.add_argument(\"--headless\")\n",
    "driver = webdriver.Chrome(\n",
    "        config.CHROMEDRIVER,\n",
    "        options=options\n",
    "        )\n"
   ]
  },
  {
   "cell_type": "code",
   "execution_count": 19,
   "metadata": {},
   "outputs": [],
   "source": [
    "url = 'http://pergamum.museu-goeldi.br:8080/pergamumweb/home_geral/login.jsp'\n",
    "driver.get(url)"
   ]
  },
  {
   "cell_type": "code",
   "execution_count": 20,
   "metadata": {},
   "outputs": [
    {
     "data": {
      "text/plain": [
       "True"
      ]
     },
     "execution_count": 20,
     "metadata": {},
     "output_type": "execute_result"
    }
   ],
   "source": [
    "captcha = driver.find_element(By.ID, 'imgCaptcha')\n",
    "captcha.screenshot('test.png')"
   ]
  },
  {
   "cell_type": "code",
   "execution_count": 21,
   "metadata": {},
   "outputs": [
    {
     "name": "stdout",
     "output_type": "stream",
     "text": [
      "WARNING:tensorflow:5 out of the last 5 calls to <function Model.make_predict_function.<locals>.predict_function at 0x000001FB12A7F9A0> triggered tf.function retracing. Tracing is expensive and the excessive number of tracings could be due to (1) creating @tf.function repeatedly in a loop, (2) passing tensors with different shapes, (3) passing Python objects instead of tensors. For (1), please define your @tf.function outside of the loop. For (2), @tf.function has reduce_retracing=True option that can avoid unnecessary retracing. For (3), please refer to https://www.tensorflow.org/guide/function#controlling_retracing and https://www.tensorflow.org/api_docs/python/tf/function for  more details.\n",
      "1/1 [==============================] - 0s 73ms/step\n"
     ]
    },
    {
     "data": {
      "text/plain": [
       "'5MNF4'"
      ]
     },
     "execution_count": 21,
     "metadata": {},
     "output_type": "execute_result"
    }
   ],
   "source": [
    "resposta = BreakCaptcha('test.png')\n",
    "resposta"
   ]
  },
  {
   "cell_type": "code",
   "execution_count": 6,
   "metadata": {},
   "outputs": [],
   "source": [
    "username = driver.find_element(By.ID, 'id_txt_login')\n",
    "username.send_keys('teste')\n"
   ]
  },
  {
   "cell_type": "code",
   "execution_count": 7,
   "metadata": {},
   "outputs": [],
   "source": [
    "pasword = driver.find_element(By.ID, 'id_txt_senha')\n",
    "pasword.send_keys('1111')"
   ]
  },
  {
   "cell_type": "code",
   "execution_count": 12,
   "metadata": {},
   "outputs": [],
   "source": [
    "txtCaptcha = driver.find_element(By.ID, 'txtCaptcha')\n",
    "txtCaptcha.send_keys(r)\n"
   ]
  },
  {
   "cell_type": "code",
   "execution_count": 13,
   "metadata": {},
   "outputs": [],
   "source": [
    "submit = driver.find_element(By.ID, 'id_btn_ok')\n",
    "submit.click()\n"
   ]
  },
  {
   "cell_type": "code",
   "execution_count": 14,
   "metadata": {},
   "outputs": [],
   "source": [
    "driver.quit()"
   ]
  },
  {
   "cell_type": "code",
   "execution_count": 18,
   "metadata": {},
   "outputs": [],
   "source": [
    "def Login(driver):\n",
    "    driver.get(url)\n",
    "    captcha = driver.find_element(By.ID, 'imgCaptcha')\n",
    "    captcha.screenshot('test.png')\n",
    "    r = BreakCaptcha('test.png')\n",
    "    username = driver.find_element(By.ID, 'id_txt_login')\n",
    "    username.send_keys('teste')\n",
    "    pasword = driver.find_element(By.ID, 'id_txt_senha')\n",
    "    pasword.send_keys('1111')\n",
    "    txtCaptcha = driver.find_element(By.ID, 'txtCaptcha')\n",
    "    txtCaptcha.send_keys(r)\n",
    "    submit = driver.find_element(By.ID, 'id_btn_ok')\n",
    "    submit.click()\n",
    "    "
   ]
  },
  {
   "cell_type": "code",
   "execution_count": 19,
   "metadata": {},
   "outputs": [
    {
     "name": "stdout",
     "output_type": "stream",
     "text": [
      "1/1 [==============================] - 0s 150ms/step\n"
     ]
    }
   ],
   "source": [
    "Login(driver)"
   ]
  }
 ],
 "metadata": {
  "kernelspec": {
   "display_name": "Python 3.10.4 ('venv': venv)",
   "language": "python",
   "name": "python3"
  },
  "language_info": {
   "codemirror_mode": {
    "name": "ipython",
    "version": 3
   },
   "file_extension": ".py",
   "mimetype": "text/x-python",
   "name": "python",
   "nbconvert_exporter": "python",
   "pygments_lexer": "ipython3",
   "version": "3.10.4"
  },
  "orig_nbformat": 4,
  "vscode": {
   "interpreter": {
    "hash": "d30f87e24bb273b0212f80a991731c78462f6b310854837fd34d4e9b6673dc91"
   }
  }
 },
 "nbformat": 4,
 "nbformat_minor": 2
}
