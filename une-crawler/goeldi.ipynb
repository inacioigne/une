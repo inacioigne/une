{
 "cells": [
  {
   "cell_type": "code",
   "execution_count": 29,
   "metadata": {},
   "outputs": [],
   "source": [
    "import config\n",
    "from selenium import webdriver\n",
    "from selenium.webdriver.chrome.options import Options\n",
    "from selenium.webdriver.common.by import By\n",
    "import cv2"
   ]
  },
  {
   "cell_type": "code",
   "execution_count": null,
   "metadata": {},
   "outputs": [],
   "source": [
    "with open(r'tmp\\teste_2022-10-01-8-46-46.txt', encoding=\"utf8\") as file:\n",
    "    reader = file.readlines()\n",
    "reader"
   ]
  },
  {
   "cell_type": "code",
   "execution_count": 17,
   "metadata": {},
   "outputs": [],
   "source": [
    "codesPergamun = list()\n",
    "for line in reader[1:]:\n",
    "    codesPergamun.append(line.split('\\t', 1)[0])"
   ]
  },
  {
   "cell_type": "code",
   "execution_count": null,
   "metadata": {},
   "outputs": [],
   "source": [
    "codesPergamun"
   ]
  },
  {
   "cell_type": "code",
   "execution_count": 19,
   "metadata": {},
   "outputs": [],
   "source": [
    "import httpx"
   ]
  },
  {
   "cell_type": "code",
   "execution_count": 31,
   "metadata": {},
   "outputs": [],
   "source": [
    "from driver import StartDriver"
   ]
  },
  {
   "cell_type": "code",
   "execution_count": 32,
   "metadata": {},
   "outputs": [],
   "source": [
    "url = \"http://pergamum.museu-goeldi.br/pergamum/biblioteca/index.php?codAcervo=35592\"\n",
    "chrome = StartDriver(url)"
   ]
  },
  {
   "cell_type": "code",
   "execution_count": null,
   "metadata": {},
   "outputs": [],
   "source": [
    "getMarc = chrome.find_element(By.XPATH, '//*[@id=\"div_detalhes_marc\"]/fieldset/a[4]')"
   ]
  },
  {
   "cell_type": "code",
   "execution_count": 50,
   "metadata": {},
   "outputs": [],
   "source": [
    "getMarc = chrome.find_element(By.TAG_NAME, 'fieldset').find_elements(By.TAG_NAME, 'a')[3]"
   ]
  },
  {
   "cell_type": "code",
   "execution_count": 51,
   "metadata": {},
   "outputs": [],
   "source": [
    "getMarc.click()"
   ]
  },
  {
   "cell_type": "code",
   "execution_count": 78,
   "metadata": {},
   "outputs": [],
   "source": [
    "\n",
    "tbody = chrome.find_element(By.XPATH, '//*[@id=\"div_detalhes_marc\"]/div/table/tbody')\n"
   ]
  },
  {
   "cell_type": "code",
   "execution_count": 86,
   "metadata": {},
   "outputs": [],
   "source": [
    "trs = tbody.find_elements(By.TAG_NAME, 'tr')"
   ]
  },
  {
   "cell_type": "code",
   "execution_count": 91,
   "metadata": {},
   "outputs": [
    {
     "data": {
      "text/plain": [
       "'001'"
      ]
     },
     "execution_count": 91,
     "metadata": {},
     "output_type": "execute_result"
    }
   ],
   "source": [
    "trs[0].find_elements(By.TAG_NAME, 'td')[0].text"
   ]
  },
  {
   "cell_type": "code",
   "execution_count": null,
   "metadata": {},
   "outputs": [],
   "source": [
    "def GetMarc(itemID):\n",
    "    url = f\"http://pergamum.museu-goeldi.br/pergamum/biblioteca/index.php?codAcervo={itemID}\"\n",
    "    driver = StartDriver(url)\n",
    "    getMarc = chrome.find_element(By.XPATH, '//*[@id=\"div_detalhes_marc\"]/fieldset/a[4]')\n",
    "    \n",
    "    "
   ]
  },
  {
   "cell_type": "code",
   "execution_count": 105,
   "metadata": {},
   "outputs": [],
   "source": [
    "import config\n",
    "import json"
   ]
  },
  {
   "cell_type": "code",
   "execution_count": 109,
   "metadata": {},
   "outputs": [],
   "source": [
    "def ParserMarc(trs):\n",
    "\n",
    "    controfield = {}\n",
    "    datafield =  {}\n",
    "    for tr in trs:\n",
    "        tds = tr.find_elements(By.TAG_NAME, 'td')\n",
    "        field = tds[0].text\n",
    "        subfield = tds[2].text\n",
    "        if int(field) < 9:\n",
    "            controfield[field] = subfield\n",
    "        else:\n",
    "            subfields = {}\n",
    "            subfield = subfield.split('$')[1:]\n",
    "            for sub in subfield:\n",
    "                code = sub.split(' ', 1)[0]\n",
    "                value = sub.split(' ', 1)[1]\n",
    "                subfields[code] = value\n",
    "            if field in config.MARC_REPETIVEL:\n",
    "                if field not in datafield.keys():\n",
    "                    datafield[field] = [subfields]\n",
    "                else:\n",
    "                    datafield[field].append(subfields)\n",
    "            else:\n",
    "                datafield[field] = subfields\n",
    "\n",
    "    marcJson = {'controfield': controfield, 'datafield': datafield}\n",
    "    return marcJson\n"
   ]
  },
  {
   "cell_type": "code",
   "execution_count": null,
   "metadata": {},
   "outputs": [],
   "source": [
    "marcJson = ParserMarc(trs)\n",
    "marcJson"
   ]
  },
  {
   "cell_type": "code",
   "execution_count": 116,
   "metadata": {},
   "outputs": [],
   "source": [
    "itemID = marcJson['controfield']['001']\n",
    "with open(\n",
    "        f\"out\\goeldi/01-09-22_30-09-22/{itemID}.json\",\"w\", encoding='utf-8') as jsonfile:\n",
    "        json.dump(marcJson, jsonfile, ensure_ascii=False, indent=4)\n",
    "        jsonfile.close()"
   ]
  },
  {
   "cell_type": "code",
   "execution_count": 114,
   "metadata": {},
   "outputs": [
    {
     "data": {
      "text/plain": [
       "'35592'"
      ]
     },
     "execution_count": 114,
     "metadata": {},
     "output_type": "execute_result"
    }
   ],
   "source": [
    "marcJson['controfield']['001']"
   ]
  }
 ],
 "metadata": {
  "kernelspec": {
   "display_name": "Python 3.10.1 ('venv': venv)",
   "language": "python",
   "name": "python3"
  },
  "language_info": {
   "codemirror_mode": {
    "name": "ipython",
    "version": 3
   },
   "file_extension": ".py",
   "mimetype": "text/x-python",
   "name": "python",
   "nbconvert_exporter": "python",
   "pygments_lexer": "ipython3",
   "version": "3.10.1"
  },
  "orig_nbformat": 4,
  "vscode": {
   "interpreter": {
    "hash": "390798e0eaedcd79897607a771b23f78edc01d17e862f234591386371553dae0"
   }
  }
 },
 "nbformat": 4,
 "nbformat_minor": 2
}
