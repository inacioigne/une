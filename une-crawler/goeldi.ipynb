{
 "cells": [
  {
   "cell_type": "code",
   "execution_count": 1,
   "metadata": {},
   "outputs": [],
   "source": [
    "import config\n",
    "from selenium import webdriver\n",
    "from selenium.webdriver.chrome.options import Options\n",
    "from selenium.webdriver.common.by import By\n",
    "import cv2"
   ]
  },
  {
   "cell_type": "code",
   "execution_count": 2,
   "metadata": {},
   "outputs": [],
   "source": [
    "from break_captcha import BreakCaptcha"
   ]
  },
  {
   "cell_type": "code",
   "execution_count": 17,
   "metadata": {},
   "outputs": [
    {
     "name": "stderr",
     "output_type": "stream",
     "text": [
      "C:\\Users\\inaci\\AppData\\Local\\Temp\\ipykernel_1040\\1766906669.py:3: DeprecationWarning: executable_path has been deprecated, please pass in a Service object\n",
      "  driver = webdriver.Chrome(\n"
     ]
    }
   ],
   "source": [
    "options = webdriver.ChromeOptions()\n",
    "#options.add_argument(\"--headless\")\n",
    "driver = webdriver.Chrome(\n",
    "        config.CHROMEDRIVER,\n",
    "        options=options\n",
    "        )\n"
   ]
  },
  {
   "cell_type": "code",
   "execution_count": 6,
   "metadata": {},
   "outputs": [],
   "source": [
    "url = 'http://pergamum.museu-goeldi.br:8080/pergamumweb/home_geral/login.jsp'\n",
    "driver.get(url)"
   ]
  },
  {
   "cell_type": "code",
   "execution_count": 7,
   "metadata": {},
   "outputs": [
    {
     "data": {
      "text/plain": [
       "True"
      ]
     },
     "execution_count": 7,
     "metadata": {},
     "output_type": "execute_result"
    }
   ],
   "source": [
    "captcha = driver.find_element(By.ID, 'imgCaptcha')\n",
    "captcha.screenshot('test.png')"
   ]
  },
  {
   "cell_type": "code",
   "execution_count": 8,
   "metadata": {},
   "outputs": [
    {
     "name": "stdout",
     "output_type": "stream",
     "text": [
      "1/1 [==============================] - 0s 347ms/step\n"
     ]
    },
    {
     "data": {
      "text/plain": [
       "'7WE36'"
      ]
     },
     "execution_count": 8,
     "metadata": {},
     "output_type": "execute_result"
    }
   ],
   "source": [
    "r = BreakCaptcha('test.png')\n",
    "r"
   ]
  },
  {
   "cell_type": "code",
   "execution_count": 9,
   "metadata": {},
   "outputs": [
    {
     "data": {
      "text/plain": [
       "<selenium.webdriver.remote.webelement.WebElement (session=\"357e4094015df646eb46b2230119a3c2\", element=\"5647f215-4c2b-4212-8d5a-1d1f0169795f\")>"
      ]
     },
     "execution_count": 9,
     "metadata": {},
     "output_type": "execute_result"
    }
   ],
   "source": [
    "username = driver.find_element(By.ID, 'id_txt_login')\n",
    "username.send_keys('teste')\n"
   ]
  },
  {
   "cell_type": "code",
   "execution_count": 11,
   "metadata": {},
   "outputs": [],
   "source": [
    "pasword = driver.find_element(By.ID, 'id_txt_senha')\n",
    "pasword.send_keys('1111')"
   ]
  },
  {
   "cell_type": "code",
   "execution_count": 12,
   "metadata": {},
   "outputs": [],
   "source": [
    "txtCaptcha = driver.find_element(By.ID, 'txtCaptcha')\n",
    "txtCaptcha.send_keys(r)\n"
   ]
  },
  {
   "cell_type": "code",
   "execution_count": 13,
   "metadata": {},
   "outputs": [],
   "source": [
    "submit = driver.find_element(By.ID, 'id_btn_ok')\n",
    "submit.click()\n"
   ]
  },
  {
   "cell_type": "code",
   "execution_count": 14,
   "metadata": {},
   "outputs": [],
   "source": [
    "driver.quit()"
   ]
  },
  {
   "cell_type": "code",
   "execution_count": 18,
   "metadata": {},
   "outputs": [],
   "source": [
    "def Login(driver):\n",
    "    driver.get(url)\n",
    "    captcha = driver.find_element(By.ID, 'imgCaptcha')\n",
    "    captcha.screenshot('test.png')\n",
    "    r = BreakCaptcha('test.png')\n",
    "    username = driver.find_element(By.ID, 'id_txt_login')\n",
    "    username.send_keys('teste')\n",
    "    pasword = driver.find_element(By.ID, 'id_txt_senha')\n",
    "    pasword.send_keys('1111')\n",
    "    txtCaptcha = driver.find_element(By.ID, 'txtCaptcha')\n",
    "    txtCaptcha.send_keys(r)\n",
    "    submit = driver.find_element(By.ID, 'id_btn_ok')\n",
    "    submit.click()\n",
    "    "
   ]
  },
  {
   "cell_type": "code",
   "execution_count": 19,
   "metadata": {},
   "outputs": [
    {
     "name": "stdout",
     "output_type": "stream",
     "text": [
      "1/1 [==============================] - 0s 150ms/step\n"
     ]
    }
   ],
   "source": [
    "Login(driver)"
   ]
  }
 ],
 "metadata": {
  "kernelspec": {
   "display_name": "Python 3.10.1 ('venv': venv)",
   "language": "python",
   "name": "python3"
  },
  "language_info": {
   "codemirror_mode": {
    "name": "ipython",
    "version": 3
   },
   "file_extension": ".py",
   "mimetype": "text/x-python",
   "name": "python",
   "nbconvert_exporter": "python",
   "pygments_lexer": "ipython3",
   "version": "3.10.1"
  },
  "orig_nbformat": 4,
  "vscode": {
   "interpreter": {
    "hash": "390798e0eaedcd79897607a771b23f78edc01d17e862f234591386371553dae0"
   }
  }
 },
 "nbformat": 4,
 "nbformat_minor": 2
}
