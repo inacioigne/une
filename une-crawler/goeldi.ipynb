{
 "cells": [
  {
   "cell_type": "code",
   "execution_count": 1,
   "metadata": {},
   "outputs": [],
   "source": [
    "import config\n",
    "from selenium import webdriver\n",
    "from selenium.webdriver.chrome.options import Options\n",
    "from selenium.webdriver.common.by import By\n",
    "import cv2"
   ]
  },
  {
   "cell_type": "code",
   "execution_count": 2,
   "metadata": {},
   "outputs": [],
   "source": [
    "imagem = cv2.imread(\"imagen.png\")\n",
    "#cv2.imshow(\"Original\", imagem)"
   ]
  },
  {
   "cell_type": "code",
   "execution_count": 11,
   "metadata": {},
   "outputs": [
    {
     "data": {
      "text/plain": [
       "(906, 958, 3)"
      ]
     },
     "execution_count": 11,
     "metadata": {},
     "output_type": "execute_result"
    }
   ],
   "source": [
    "imagem.shape"
   ]
  },
  {
   "cell_type": "code",
   "execution_count": 35,
   "metadata": {},
   "outputs": [
    {
     "data": {
      "text/plain": [
       "True"
      ]
     },
     "execution_count": 35,
     "metadata": {},
     "output_type": "execute_result"
    }
   ],
   "source": [
    "fatia = imagem[430:480, 650:770 ]\n",
    "cv2.imwrite(\"img.png\", fatia)\n"
   ]
  },
  {
   "cell_type": "code",
   "execution_count": null,
   "metadata": {},
   "outputs": [],
   "source": []
  },
  {
   "cell_type": "code",
   "execution_count": 27,
   "metadata": {},
   "outputs": [
    {
     "data": {
      "text/plain": [
       "array([[[230, 226, 223],\n",
       "        [229, 225, 222],\n",
       "        [231, 227, 223],\n",
       "        ...,\n",
       "        [221, 216, 212],\n",
       "        [224, 220, 215],\n",
       "        [224, 219, 216]],\n",
       "\n",
       "       [[229, 225, 222],\n",
       "        [228, 223, 221],\n",
       "        [227, 222, 219],\n",
       "        ...,\n",
       "        [218, 213, 209],\n",
       "        [219, 214, 210],\n",
       "        [222, 218, 213]],\n",
       "\n",
       "       [[228, 223, 221],\n",
       "        [226, 222, 219],\n",
       "        [225, 220, 217],\n",
       "        ...,\n",
       "        [216, 210, 206],\n",
       "        [217, 211, 207],\n",
       "        [218, 212, 208]],\n",
       "\n",
       "       ...,\n",
       "\n",
       "       [[223, 218, 215],\n",
       "        [221, 216, 212],\n",
       "        [219, 214, 210],\n",
       "        ...,\n",
       "        [252, 252, 252],\n",
       "        [249, 249, 248],\n",
       "        [241, 240, 238]],\n",
       "\n",
       "       [[224, 220, 217],\n",
       "        [223, 218, 214],\n",
       "        [221, 216, 212],\n",
       "        ...,\n",
       "        [209, 202, 197],\n",
       "        [210, 203, 199],\n",
       "        [211, 205, 200]],\n",
       "\n",
       "       [[226, 221, 218],\n",
       "        [224, 220, 217],\n",
       "        [223, 218, 215],\n",
       "        ...,\n",
       "        [212, 205, 201],\n",
       "        [213, 207, 202],\n",
       "        [214, 208, 204]]], dtype=uint8)"
      ]
     },
     "execution_count": 27,
     "metadata": {},
     "output_type": "execute_result"
    }
   ],
   "source": [
    "fatia"
   ]
  },
  {
   "cell_type": "code",
   "execution_count": 19,
   "metadata": {},
   "outputs": [
    {
     "name": "stderr",
     "output_type": "stream",
     "text": [
      "C:\\Users\\Usuário\\AppData\\Local\\Temp\\ipykernel_15956\\1766906669.py:3: DeprecationWarning: executable_path has been deprecated, please pass in a Service object\n",
      "  driver = webdriver.Chrome(\n"
     ]
    }
   ],
   "source": [
    "options = webdriver.ChromeOptions()\n",
    "#options.add_argument(\"--headless\")\n",
    "driver = webdriver.Chrome(\n",
    "        config.CHROMEDRIVER,\n",
    "        options=options\n",
    "        )\n"
   ]
  },
  {
   "cell_type": "code",
   "execution_count": 20,
   "metadata": {},
   "outputs": [],
   "source": [
    "url = 'http://pergamum.museu-goeldi.br:8080/pergamumweb/home_geral/login.jsp'\n",
    "driver.get(url)"
   ]
  },
  {
   "cell_type": "code",
   "execution_count": 32,
   "metadata": {},
   "outputs": [
    {
     "data": {
      "text/plain": [
       "{'x': 606, 'y': 428}"
      ]
     },
     "execution_count": 32,
     "metadata": {},
     "output_type": "execute_result"
    }
   ],
   "source": [
    "img = driver.find_element(By.ID, 'imgCaptcha')\n",
    "img.location"
   ]
  },
  {
   "cell_type": "code",
   "execution_count": 33,
   "metadata": {},
   "outputs": [
    {
     "data": {
      "text/plain": [
       "'http://pergamum.museu-goeldi.br:8080/pergamumweb/kaptcha.jpg'"
      ]
     },
     "execution_count": 33,
     "metadata": {},
     "output_type": "execute_result"
    }
   ],
   "source": [
    "img.get_attribute('src')"
   ]
  },
  {
   "cell_type": "code",
   "execution_count": 28,
   "metadata": {},
   "outputs": [
    {
     "data": {
      "text/plain": [
       "True"
      ]
     },
     "execution_count": 28,
     "metadata": {},
     "output_type": "execute_result"
    }
   ],
   "source": [
    "driver.save_screenshot('imagen.png')"
   ]
  },
  {
   "cell_type": "code",
   "execution_count": 10,
   "metadata": {},
   "outputs": [],
   "source": [
    "data = 'rs=ajax_dados_acervo&rst=&rsrnd=1664285637996&rsargs[]=30850&rsargs[]='"
   ]
  },
  {
   "cell_type": "code",
   "execution_count": 11,
   "metadata": {},
   "outputs": [
    {
     "data": {
      "text/plain": [
       "<Response [200 OK]>"
      ]
     },
     "execution_count": 11,
     "metadata": {},
     "output_type": "execute_result"
    }
   ],
   "source": [
    "response = httpx.post(\n",
    "    'http://pergamum.museu-goeldi.br/pergamum/biblioteca/index.php', \n",
    "    cookies=cookies, \n",
    "    headers=headers, \n",
    "    data=data, \n",
    "    verify=False)\n",
    "response"
   ]
  },
  {
   "cell_type": "code",
   "execution_count": 13,
   "metadata": {},
   "outputs": [
    {
     "data": {
      "text/plain": [
       "<Response [200 OK]>"
      ]
     },
     "execution_count": 13,
     "metadata": {},
     "output_type": "execute_result"
    }
   ],
   "source": [
    "response = httpx.get('http://pergamum.museu-goeldi.br/pergamum/biblioteca/index.php?codAcervo=35191')\n",
    "response"
   ]
  }
 ],
 "metadata": {
  "kernelspec": {
   "display_name": "Python 3.10.4 ('venv': venv)",
   "language": "python",
   "name": "python3"
  },
  "language_info": {
   "codemirror_mode": {
    "name": "ipython",
    "version": 3
   },
   "file_extension": ".py",
   "mimetype": "text/x-python",
   "name": "python",
   "nbconvert_exporter": "python",
   "pygments_lexer": "ipython3",
   "version": "3.10.4"
  },
  "orig_nbformat": 4,
  "vscode": {
   "interpreter": {
    "hash": "d30f87e24bb273b0212f80a991731c78462f6b310854837fd34d4e9b6673dc91"
   }
  }
 },
 "nbformat": 4,
 "nbformat_minor": 2
}
