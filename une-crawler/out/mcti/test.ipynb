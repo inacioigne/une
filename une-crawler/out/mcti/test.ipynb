{
 "cells": [
  {
   "cell_type": "code",
   "execution_count": 1,
   "metadata": {},
   "outputs": [],
   "source": [
    "from os import listdir"
   ]
  },
  {
   "cell_type": "code",
   "execution_count": 3,
   "metadata": {},
   "outputs": [
    {
     "data": {
      "text/plain": [
       "92"
      ]
     },
     "execution_count": 3,
     "metadata": {},
     "output_type": "execute_result"
    }
   ],
   "source": [
    "marcs = listdir('2006')\n",
    "len(marcs)"
   ]
  },
  {
   "cell_type": "code",
   "execution_count": 6,
   "metadata": {},
   "outputs": [],
   "source": [
    "codes = ['1678', '1640', '1581', '1597', '1426', '1433', '1531', '1514', '1437', '1672', '1401', '1512', '1434', '1405', '1651', '1417', '1576', '1460', '1629', '1451', '1670', '1662', '1668', '1675', '1403', '1676', '1422', '1459', '1613', '1515', '1513', '1517', '1516', '1594', '1413', '1671', '1674', '1557', '1596', '1621', '1453', '1452', '1444', '1474', '1595', '1454', '1408', '1635', '1562', '1455', '1411', '1573', '1529', '1404', '1416', '1421', '1625', '1592', '1439', '1574', '1572', '1628', '1407', '1442', '1641', '1639', '16954', '1429', '1654', '1616', '1646', '1609', '1424', '1446', '1669', '1664', '1409', '1568', '1643', '1418', '1445', '1423', '1559', '1600', '1630', '1644', '1447', '1663', '1661', '1461', '1533', '1486', '1488', '1561', '1618', '1402', '1505', '1636', '1526', '1638', '1456', '1428', '1419', '1627', '1420', '1652', '1580', '1530', '1532', '1566', '1633', '1440', '1457', '1415', '1677', '1648', '1657', '1406', '1637', '1556', '1554', '1427', '1634', '1598', '1575', '1569', '1571', '1647', '1567', '1631', '1550', '1443', '1414', '1560', '1441', '1425', '1602', '1626', '1645', '1673', '1583', '1642', '1619', '1614', '1656', '1558', '1585', '1608', '1610', '1615', '1410', '1667', '1649', '1658', '1660', '1655', '1436', '1665', '1653', '1622', '1650', '1632', '1659', '1593', '1435', '1605', '1534', '1584', '1666']"
   ]
  },
  {
   "cell_type": "code",
   "execution_count": 9,
   "metadata": {},
   "outputs": [],
   "source": [
    "baixados = [i.split('.')[0] for i in marcs]"
   ]
  },
  {
   "cell_type": "code",
   "execution_count": 11,
   "metadata": {},
   "outputs": [
    {
     "data": {
      "text/plain": [
       "92"
      ]
     },
     "execution_count": 11,
     "metadata": {},
     "output_type": "execute_result"
    }
   ],
   "source": [
    "len(baixados)"
   ]
  },
  {
   "cell_type": "code",
   "execution_count": 12,
   "metadata": {},
   "outputs": [
    {
     "data": {
      "text/plain": [
       "169"
      ]
     },
     "execution_count": 12,
     "metadata": {},
     "output_type": "execute_result"
    }
   ],
   "source": [
    "len(codes)"
   ]
  },
  {
   "cell_type": "code",
   "execution_count": 15,
   "metadata": {},
   "outputs": [
    {
     "data": {
      "text/plain": [
       "False"
      ]
     },
     "execution_count": 15,
     "metadata": {},
     "output_type": "execute_result"
    }
   ],
   "source": [
    "codes[0] not in baixados"
   ]
  },
  {
   "cell_type": "code",
   "execution_count": 16,
   "metadata": {},
   "outputs": [],
   "source": [
    "faltantes = list()\n",
    "for i in codes:\n",
    "    if i not in baixados:\n",
    "        faltantes.append(i)\n"
   ]
  },
  {
   "cell_type": "code",
   "execution_count": 19,
   "metadata": {},
   "outputs": [
    {
     "name": "stdout",
     "output_type": "stream",
     "text": [
      "['1488', '1561', '1618', '1402', '1505', '1636', '1526', '1638', '1456', '1428', '1419', '1627', '1420', '1652', '1580', '1530', '1532', '1566', '1633', '1440', '1457', '1415', '1677', '1648', '1657', '1406', '1637', '1556', '1554', '1427', '1634', '1598', '1575', '1569', '1571', '1647', '1567', '1631', '1550', '1443', '1414', '1560', '1441', '1425', '1602', '1626', '1645', '1673', '1583', '1642', '1619', '1614', '1656', '1558', '1585', '1608', '1610', '1615', '1410', '1667', '1649', '1658', '1660', '1655', '1436', '1665', '1653', '1622', '1650', '1632', '1659', '1593', '1435', '1605', '1534', '1584', '1666']\n"
     ]
    }
   ],
   "source": [
    "print(faltantes)"
   ]
  }
 ],
 "metadata": {
  "kernelspec": {
   "display_name": "Python 3.10.1 ('venv': venv)",
   "language": "python",
   "name": "python3"
  },
  "language_info": {
   "codemirror_mode": {
    "name": "ipython",
    "version": 3
   },
   "file_extension": ".py",
   "mimetype": "text/x-python",
   "name": "python",
   "nbconvert_exporter": "python",
   "pygments_lexer": "ipython3",
   "version": "3.10.1"
  },
  "orig_nbformat": 4,
  "vscode": {
   "interpreter": {
    "hash": "390798e0eaedcd79897607a771b23f78edc01d17e862f234591386371553dae0"
   }
  }
 },
 "nbformat": 4,
 "nbformat_minor": 2
}
