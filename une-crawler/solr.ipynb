{
 "cells": [
  {
   "cell_type": "code",
   "execution_count": 2,
   "metadata": {},
   "outputs": [],
   "source": [
    "import pysolr\n",
    "import json\n",
    "import httpx"
   ]
  },
  {
   "cell_type": "code",
   "execution_count": 3,
   "metadata": {},
   "outputs": [
    {
     "data": {
      "text/plain": [
       "'{\\n  \"responseHeader\":{\\n    \"zkConnected\":null,\\n    \"status\":0,\\n    \"QTime\":68,\\n    \"params\":{\\n      \"q\":\"{!lucene}*:*\",\\n      \"distrib\":\"false\",\\n      \"df\":\"_text_\",\\n      \"rows\":\"10\",\\n      \"echoParams\":\"all\",\\n      \"rid\":\"localhost-0\"}},\\n  \"status\":\"OK\"}\\n'"
      ]
     },
     "execution_count": 3,
     "metadata": {},
     "output_type": "execute_result"
    }
   ],
   "source": [
    "solr = pysolr.Solr('http://localhost:8983/solr/Une/', timeout=10)\n",
    "solr.ping()"
   ]
  },
  {
   "cell_type": "code",
   "execution_count": 7,
   "metadata": {},
   "outputs": [],
   "source": [
    "with open(f'out\\goeldi\\solr.json', encoding=\"utf-8\") as file_json:\n",
    "    docs = json.loads(file_json.read())\n",
    "    file_json.close()"
   ]
  },
  {
   "cell_type": "code",
   "execution_count": 8,
   "metadata": {},
   "outputs": [
    {
     "data": {
      "text/plain": [
       "{'id': 35191,\n",
       " 'institution': 'Goeldi',\n",
       " 'marc020a': '9786525117263 ',\n",
       " 'marc040a': 'BR-BeMEG ',\n",
       " 'marc040c': 'BR-BeMEG ',\n",
       " 'marc082a': '326.09811 ',\n",
       " 'marc090a': '326.09811 ',\n",
       " 'marc090b': 'F489  ',\n",
       " 'marc090d': 'L  ',\n",
       " 'marc0908': '1 ',\n",
       " 'marc240l': 'por ',\n",
       " 'marc245a': 'O fim do silêncio: ',\n",
       " 'marc245b': 'presença negra na Amazônia/ ',\n",
       " 'marc245c': 'Patricia Alves-Melo, org. ',\n",
       " 'marc250a': ['2. ed. rev. e ampl. '],\n",
       " 'marc260a': ['Curitiba : '],\n",
       " 'marc260b': ['CRV, '],\n",
       " 'marc260c': ['2021. '],\n",
       " 'marc300a': ['271 p. '],\n",
       " 'marc490a': ['PPGH ; '],\n",
       " 'marc490v': ['v.5 '],\n",
       " 'marc650a': ['Negros '],\n",
       " 'marc650completo': ['Negros --Amazônia '],\n",
       " 'marc700None': ['Alves-Melo, Patricia, ']}"
      ]
     },
     "execution_count": 8,
     "metadata": {},
     "output_type": "execute_result"
    }
   ],
   "source": [
    "docs[0]"
   ]
  },
  {
   "cell_type": "code",
   "execution_count": 10,
   "metadata": {},
   "outputs": [
    {
     "data": {
      "text/plain": [
       "'{\\n  \"responseHeader\":{\\n    \"status\":0,\\n    \"QTime\":34}}\\n'"
      ]
     },
     "execution_count": 10,
     "metadata": {},
     "output_type": "execute_result"
    }
   ],
   "source": [
    "solr.add(docs)"
   ]
  },
  {
   "cell_type": "code",
   "execution_count": null,
   "metadata": {},
   "outputs": [],
   "source": [
    "with open(f'out\\mcti\\solr.json', encoding=\"utf-8\") as file_json:\n",
    "    docs = json.loads(file_json.read())\n",
    "    file_json.close()"
   ]
  },
  {
   "cell_type": "code",
   "execution_count": null,
   "metadata": {},
   "outputs": [],
   "source": [
    "solr.add([docs], commit=True)"
   ]
  },
  {
   "cell_type": "code",
   "execution_count": 11,
   "metadata": {},
   "outputs": [
    {
     "data": {
      "text/plain": [
       "'<?xml version=\"1.0\" encoding=\"UTF-8\"?>\\n<response>\\n\\n<lst name=\"responseHeader\">\\n  <int name=\"status\">0</int>\\n  <int name=\"QTime\">192</int>\\n</lst>\\n</response>\\n'"
      ]
     },
     "execution_count": 11,
     "metadata": {},
     "output_type": "execute_result"
    }
   ],
   "source": [
    "# ...or all documents.\n",
    "solr.delete(q='*:*', commit=True)"
   ]
  },
  {
   "cell_type": "code",
   "execution_count": 10,
   "metadata": {},
   "outputs": [
    {
     "data": {
      "text/plain": [
       "<Response [200 OK]>"
      ]
     },
     "execution_count": 10,
     "metadata": {},
     "output_type": "execute_result"
    }
   ],
   "source": [
    "solr_api = 'http://localhost:8983/api/cores/Une/schema'\n",
    "\n",
    "replace = {\n",
    "  \"replace-field\":{\n",
    "     \"name\":\"marc490v\",\n",
    "     \"type\":\"text_general\",\n",
    "     }\n",
    "}\n",
    "\n",
    "r = httpx.post(solr_api, json=replace, timeout=60)\n",
    "r"
   ]
  }
 ],
 "metadata": {
  "kernelspec": {
   "display_name": "Python 3.10.4 ('venv': venv)",
   "language": "python",
   "name": "python3"
  },
  "language_info": {
   "codemirror_mode": {
    "name": "ipython",
    "version": 3
   },
   "file_extension": ".py",
   "mimetype": "text/x-python",
   "name": "python",
   "nbconvert_exporter": "python",
   "pygments_lexer": "ipython3",
   "version": "3.10.4"
  },
  "orig_nbformat": 4,
  "vscode": {
   "interpreter": {
    "hash": "d30f87e24bb273b0212f80a991731c78462f6b310854837fd34d4e9b6673dc91"
   }
  }
 },
 "nbformat": 4,
 "nbformat_minor": 2
}
